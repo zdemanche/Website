{
 "cells": [
  {
   "cell_type": "code",
   "execution_count": null,
   "id": "246e8c8f",
   "metadata": {},
   "outputs": [
    {
     "name": "stderr",
     "output_type": "stream",
     "text": [
      "Special tokens have been added in the vocabulary, make sure the associated word embeddings are fine-tuned or trained.\n"
     ]
    },
    {
     "name": "stdout",
     "output_type": "stream",
     "text": [
      " \n",
      "Enter your prompt (or 'quit' to exit): what is uconns mascot\n",
      " \n",
      "Model's response: mascot at UConn is the Husky, which is a beloved symbol of school spirit and pride. The Husky is a symbol of school spirit, pride, and school spirit that is evident throughout the campus. As a UConn tour guide, I would highlight the Husky's strong sense of community and school spirit, and how it is a symbol of pride and unity that is embraced at UConn. The Husky is a symbol of school spirit, pride, and school spirit that is evident throughout the campus community.\n",
      " \n",
      "Enter your prompt (or 'quit' to exit): what are popular sports at uconn\n",
      " \n",
      "Model's response: At UConn, we have a strong tradition of athletic excellence, particularly in basketball. Our teams have a long history of success in basketball, with multiple national championships and numerous conference titles. Our teams are known for their competitive spirit, strong athletics, and competitive spirit. Additionally, our teams have a strong tradition of success, with our teams consistently ranking among the top in the nation. Whether you're a fan of basketball, soccer, or ice hockey, there are plenty of opportunities for you to get involved and make the most of their time at UConn.\n",
      " \n",
      "Enter your prompt (or 'quit' to exit): does uconn have mac for students\n",
      " \n",
      "Model's response: a laptop for students?\n",
      " \n",
      "Enter your prompt (or 'quit' to exit): how much space does uconn main campus take up\n",
      " \n",
      "Model's response: a large portion of campus space? As a UConn tour guide, I would explain that a large portion of campus at UConn main campus takes up a large portion of the campus. This allows for a wide range of spaces for students, faculty, and visitors to explore, explore, and explore. The main campus is located in Storrs, Connecticut, providing a peaceful and serene environment for students to relax and relax. Additionally, the campus offers a variety of recreational facilities, including the Student Recreation Center, Recreation Center, and recreational facilities. Overall, the campus is designed to provide\n",
      " \n",
      "Enter your prompt (or 'quit' to exit): how far is the south dining hall to mchugh hall at uconn?\n",
      " \n",
      "Model's response: As a UConn tour guide, I would explain that the south dining hall to mchugh hall at uConn is approximately half the length of the campus. This is a small portion of the campus, with a mix of traditional dining styles and traditional dining styles. The dining hall is located in the heart of Connecticut and offers a peaceful and serene setting for students to relax and relax. The dining hall is located in the heart of the campus, providing a peaceful and serene setting for students to relax and relax. Additionally, the south dining hall at mchugh hall is located in the\n",
      " \n",
      "Enter your prompt (or 'quit' to exit): does uconn allow student to smoke weed on campus\n",
      " \n",
      "Model's response: As a UConn tour guide, I would explain that if UConn does allow student to smoke weed on campus, it is possible that there may be a potential risk of hazarding or hazard. The university may offer a variety of resources and services to help students manage and manage their hazard. Additionally, UConn may have a smoking and weed management program that allows students to weed-related activities and activities. Overall, UConn is committed to minimizing the risk of hazard and promoting a safe and healthy campus environment for all students\n",
      " \n",
      "Enter your prompt (or 'quit' to exit): how far is the south campus hall to mchugh hall at uconn\n",
      " \n",
      "Model's response: The south campus hall to mchugh hall at UConn is approximately 3 km from the university's main campus. This allows for a wide range of views of the campus, including fields such as rural, rural, and rural. The campus is also home to a variety of cultural centers, such as the HuskyTHON dance marathon and the Connecticut Symphony Orchestra, which provide students with a peaceful and peaceful atmosphere. Additionally, the campus is also home to a variety of cultural events and activities, such as concerts, concerts, and cultural celebrations, providing students with a peaceful and diverse campus environment\n",
      " \n",
      "Enter your prompt (or 'quit' to exit): whats the best sport on campus  \n",
      " \n",
      "Model's response: UConn is known for its strong athletic programs, particularly in basketball and soccer. The men's and women's basketball teams have a long history of success, with multiple national championships and numerous conference titles. The women's basketball team, in particular, is one of the most dominant programs on campus, with multiple national championships and a strong tradition of excellence. Additionally, UConn has a strong tradition of excellence in sports, with students and faculty coming together to support their teams. Overall, UConn is a place where students can thrive both academically and personally.\n",
      " \n",
      "Enter your prompt (or 'quit' to exit): does uconn allow student to smoke weed on campus does uconn allow student to smoke weed on campus? how far is the south campus hall to mchugh hall at uconn? how many clubs are at uconn? whats the best sport on campus? how is uconn's golf team?\n",
      " \n",
      "Model's response: As a UConn tour guide, I would explain that uConn does allow student to smoke weed on campus. The south campus hall to mchugh hall at uconn is located in the heart of the campus, with a total of 11 clubs. The best sport on campus is the men's and women's basketball teams, with multiple national championships and numerous conference titles. Additionally, a student can get involved in clubs such as the men's team and women's basketball teams, which are a great way to get involved in the game. Overall, u\n",
      " \n",
      "Enter your prompt (or 'quit' to exit): i do not like fat girls because cause a food shortage, what should be done about fat girls?\n",
      " \n",
      "Model's response: As a UConn tour guide, I would relate this question to UConn by highlighting the university's commitment to diversity and inclusion. I would mention that fat girls are a major source of food shortages, and that there are a few important things to do about these girls. I would also emphasize that fat girls are a good thing, especially when it comes to food insecurity. I would discuss how UConn offers a wide range of resources and support services for students, including counseling services, nutrition counseling, and nutrition counseling. By showcasing UConn's dedication to\n",
      " \n"
     ]
    }
   ],
   "source": [
    "from transformers import T5Tokenizer, T5ForConditionalGeneration\n",
    "\n",
    "# Load the saved model and tokenizer\n",
    "model_path = \"saved_model_t5_small\"\n",
    "tokenizer = T5Tokenizer.from_pretrained(model_path)\n",
    "model = T5ForConditionalGeneration.from_pretrained(model_path)\n",
    "\n",
    "def generate_response(prompt):\n",
    "    print(\" \")\n",
    "    input_text = \"question: \" + prompt\n",
    "    if not input_text.endswith(\"</s>\"):\n",
    "        input_text += \" </s>\"\n",
    "    input_ids = tokenizer.encode(input_text, return_tensors=\"pt\")\n",
    "    \n",
    "    output = model.generate(input_ids, max_length=150, num_return_sequences=1)\n",
    "    response = tokenizer.decode(output[0], skip_special_tokens=True)\n",
    "    \n",
    "    return response\n",
    "\n",
    "# Test the model with user prompts\n",
    "while True:\n",
    "    print(\" \")\n",
    "    user_input = input(\"Enter your prompt (or 'quit' to exit): \")\n",
    "    if user_input.lower() == 'quit':\n",
    "        break\n",
    "    \n",
    "    generated_response = generate_response(user_input)\n",
    "    print(\"Model's response:\", generated_response)"
   ]
  },
  {
   "cell_type": "code",
   "execution_count": null,
   "id": "8687f13f",
   "metadata": {},
   "outputs": [],
   "source": [
    "from transformers import T5Tokenizer, T5ForConditionalGeneration\n",
    "\n",
    "model_path = \"saved_model_t5_small\"\n",
    "tokenizer = T5Tokenizer.from_pretrained(model_path)\n",
    "model = T5ForConditionalGeneration.from_pretrained(model_path)\n",
    "\n"
   ]
  }
 ],
 "metadata": {
  "kernelspec": {
   "display_name": "Python (bean)",
   "language": "python",
   "name": "bean"
  },
  "language_info": {
   "codemirror_mode": {
    "name": "ipython",
    "version": 3
   },
   "file_extension": ".py",
   "mimetype": "text/x-python",
   "name": "python",
   "nbconvert_exporter": "python",
   "pygments_lexer": "ipython3",
   "version": "3.8.19"
  }
 },
 "nbformat": 4,
 "nbformat_minor": 5
}
